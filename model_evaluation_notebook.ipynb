{
 "cells": [
  {
   "cell_type": "markdown",
   "metadata": {},
   "source": [
    "# Model Evaluation Tutorial "
   ]
  },
  {
   "cell_type": "markdown",
   "metadata": {},
   "source": [
    "## Section 1"
   ]
  },
  {
   "cell_type": "markdown",
   "metadata": {},
   "source": [
    "The first part of this tutorial describes a python algorithm/script that is used to compare observed and modelled datasets. The user provides two arrays (i.e. obs and sim) and an estimate of the uncertainty around the observed data (constant) to the comparison function. When called by the user the function performs the comparison and returns a summary statistic. "
   ]
  },
  {
   "cell_type": "markdown",
   "metadata": {},
   "source": [
    "The following block of code creates the sim_vs_obs comparison functions. The first function is named \"compare\" and the second \"compare_daily\""
   ]
  },
  {
   "cell_type": "code",
   "execution_count": 4,
   "metadata": {},
   "outputs": [
    {
     "name": "stdout",
     "output_type": "stream",
     "text": [
      "The watermark extension is already loaded. To reload it, use:\n",
      "  %reload_ext watermark\n",
      "CPython 2.7.15\n",
      "IPython 5.8.0\n",
      "\n",
      "pandas 0.24.2\n",
      "numpy 1.16.6\n",
      "matplotlib 2.2.3\n",
      "\n",
      "compiler   : GCC 4.2.1 Compatible Clang 4.0.1 (tags/RELEASE_401/final)\n",
      "system     : Darwin\n",
      "release    : 19.3.0\n",
      "machine    : x86_64\n",
      "processor  : i386\n",
      "CPU cores  : 8\n",
      "interpreter: 64bit\n"
     ]
    }
   ],
   "source": [
    "%load_ext watermark\n",
    "%watermark -v -m -p pandas,numpy,matplotlib"
   ]
  },
  {
   "cell_type": "code",
   "execution_count": 1,
   "metadata": {},
   "outputs": [],
   "source": [
    "def compare(sim, obs, unctype, unc) :\n",
    "\t\t\n",
    "\timport pandas as pd\n",
    "\timport numpy as np\n",
    "\n",
    "\tsim = np.array(sim)\n",
    "\tobs = np.array(obs)\n",
    "\t\n",
    "\tfit = pd.DataFrame(columns=['oneorzero','obsday'])\n",
    "\n",
    "\tif (unctype == 'pc') : \n",
    "\n",
    "\t\tfor ct in range(len(sim)):\n",
    "\n",
    "\t\t\tif ( np.isnan(obs[ct]) ) : continue \n",
    "\n",
    "\t\t\tif ( (obs[ct] >= 0) and (obs[ct]*(1-unc) <= sim[ct] <= obs[ct]*(1+unc)) ) :\n",
    "\t\t\t\t fit = fit.append({'oneorzero':1,'obsday':ct},ignore_index=True)\n",
    "\t\t\t\t continue\n",
    "\n",
    "\t\t\tif ( (obs[ct] < 0) and (obs[ct]*(1-unc) >= sim[ct] >= obs[ct]*(1+unc)) ) :\n",
    "\t\t\t\t fit = fit.append({'oneorzero':1,'obsday':ct},ignore_index=True)\n",
    "\t\t\t\t continue\n",
    "\n",
    "\t\t\tif (ct not in [0,1,2,3,len(sim)-3,len(sim)-2,len(sim)-1,len(sim)]) and (obs[ct] >= 0) and \\\n",
    "\t\t\t\t (      ( obs[ct]*(1-unc) <= sim[ct+1] <= obs[ct]*(1+unc) )  \n",
    "\t\t\t\t\t or ( obs[ct]*(1-unc) <= sim[ct+2] <= obs[ct]*(1+unc) )  \n",
    "\t\t\t\t\t or ( obs[ct]*(1-unc) <= sim[ct+3] <= obs[ct]*(1+unc) )  \n",
    "\t\t\t\t\t or ( obs[ct]*(1-unc) <= sim[ct-1] <= obs[ct]*(1+unc) )\n",
    "\t\t\t\t\t or ( obs[ct]*(1-unc) <= sim[ct-2] <= obs[ct]*(1+unc) ) \n",
    "\t\t\t\t\t or ( obs[ct]*(1-unc) <= sim[ct-3] <= obs[ct]*(1+unc) ) ):\n",
    "\t\t\t\t fit = fit.append({'oneorzero':1,'obsday':ct},ignore_index=True)\n",
    "\t\t\t\t continue  \n",
    "\n",
    "\t\t\tif (ct not in [0,1,2,3,len(sim)-3,len(sim)-2,len(sim)-1,len(sim)]) and (obs[ct] < 0) and \\\n",
    "\t\t\t\t (      ( obs[ct]*(1-unc) >= sim[ct+1] >= obs[ct]*(1+unc) )  \n",
    "\t\t\t\t\t or ( obs[ct]*(1-unc) >= sim[ct+2] >= obs[ct]*(1+unc) )  \n",
    "\t\t\t\t\t or ( obs[ct]*(1-unc) >= sim[ct+3] >= obs[ct]*(1+unc) )  \n",
    "\t\t\t\t\t or ( obs[ct]*(1-unc) >= sim[ct-1] >= obs[ct]*(1+unc) )\n",
    "\t\t\t\t\t or ( obs[ct]*(1-unc) >= sim[ct-2] >= obs[ct]*(1+unc) ) \n",
    "\t\t\t\t\t or ( obs[ct]*(1-unc) >= sim[ct-3] >= obs[ct]*(1+unc) ) ):\n",
    "\t\t\t\t fit = fit.append({'oneorzero':1,'obsday':ct},ignore_index=True)\n",
    "\t\t\t\t continue \n",
    "\n",
    "\t\t\tfit = fit.append({'oneorzero':0,'obsday':ct},ignore_index=True)\n",
    "\n",
    "\t\n",
    "\tif (unctype == 'qt') : \n",
    "\n",
    "\t\tfor ct in range(len(sim)):\n",
    "\n",
    "\t\t\tif ( np.isnan(obs[ct]) ) : continue \n",
    "\n",
    "\t\t\tif ( (obs[ct] >= 0) and (obs[ct]-unc <= sim[ct] <= obs[ct]+unc) ) :\n",
    "\t\t\t\t fit = fit.append({'oneorzero':1,'obsday':ct},ignore_index=True)\n",
    "\t\t\t\t continue\n",
    "\n",
    "\t\t\tif ( (obs[ct] < 0) and (obs[ct]+unc >= sim[ct] >= obs[ct]-unc) ) :\n",
    "\t\t\t\t fit = fit.append({'oneorzero':1,'obsday':ct},ignore_index=True)\n",
    "\t\t\t\t continue\n",
    "\n",
    "\t\t\tif (ct not in [0,1,2,3,len(sim)-3,len(sim)-2,len(sim)-1,len(sim)]) and (obs[ct] >= 0) and \\\n",
    "\t\t\t\t (      ( obs[ct]-unc <= sim[ct+1] <= obs[ct]+unc )  \n",
    "\t\t\t\t\t or ( obs[ct]-unc <= sim[ct+2] <= obs[ct]+unc )  \n",
    "\t\t\t\t\t or ( obs[ct]-unc <= sim[ct+3] <= obs[ct]+unc )  \n",
    "\t\t\t\t\t or ( obs[ct]-unc <= sim[ct-1] <= obs[ct]+unc )\n",
    "\t\t\t\t\t or ( obs[ct]-unc <= sim[ct-2] <= obs[ct]+unc ) \n",
    "\t\t\t\t\t or ( obs[ct]-unc <= sim[ct-3] <= obs[ct]+unc ) ):\n",
    "\t\t\t\t fit = fit.append({'oneorzero':1,'obsday':ct},ignore_index=True)\n",
    "\t\t\t\t continue  \n",
    "\n",
    "\t\t\tif (ct not in [0,1,2,3,len(sim)-3,len(sim)-2,len(sim)-1,len(sim)]) and (obs[ct] < 0) and \\\n",
    "\t\t\t\t (      ( obs[ct]+unc >=  sim[ct+1] >= obs[ct]-unc )  \n",
    "\t\t\t\t\t or ( obs[ct]+unc >=  sim[ct+2] >= obs[ct]-unc )  \n",
    "\t\t\t\t\t or ( obs[ct]+unc >=  sim[ct+3] >= obs[ct]-unc )  \n",
    "\t\t\t\t\t or ( obs[ct]+unc >=  sim[ct-1] >= obs[ct]-unc )\n",
    "\t\t\t\t\t or ( obs[ct]+unc >=  sim[ct-2] >= obs[ct]-unc ) \n",
    "\t\t\t\t\t or ( obs[ct]+unc >=  sim[ct-3] >= obs[ct]-unc ) ):\n",
    "\t\t\t\t fit = fit.append({'oneorzero':1,'obsday':ct},ignore_index=True)\n",
    "\t\t\t\t continue \n",
    "\n",
    "\t\t\tfit = fit.append({'oneorzero':0,'obsday':ct},ignore_index=True)\n",
    "\n",
    "\n",
    "\treturn round(float(sum(fit.oneorzero))/float(len(fit)), 4)\n",
    "\n",
    "\n",
    "# same-day-only comparison\n",
    "# sim/obs : simulated and observed data\n",
    "# unctype/unc : type of uncertainty info values (amount or %) and uncertainty info\n",
    "def compare_daily(sim, obs, unctype, unc) :\n",
    "\t\n",
    "\timport pandas as pd\n",
    "\timport numpy as np\n",
    "\n",
    "\tfit = pd.DataFrame(columns=['oneorzero','obsday'])\n",
    "\n",
    "\tif (unctype == 'pc' ) : \t\n",
    "\n",
    "\t\tfor ct in range(len(sim)):\n",
    "\n",
    "\t\t\tif ( np.isnan(obs[ct]) ) : continue \n",
    "\n",
    "\t\t\tif ( (obs[ct] >= 0) and (obs[ct]*(1-unc) <= sim[ct] <= obs[ct]*(1+unc)) ) :\n",
    "\t\t\t\t fit = fit.append({'oneorzero':1,'obsday':ct},ignore_index=True)\n",
    "\t\t\t\t continue\n",
    "\n",
    "\t\t\tif ( (obs[ct] < 0) and (obs[ct]*(1-unc) >= sim[ct] >= obs[ct]*(1+unc)) ) :\n",
    "\t\t\t\t fit = fit.append({'oneorzero':1,'obsday':ct},ignore_index=True)\n",
    "\t\t\t\t continue\n",
    "\n",
    "\t\t\tfit = fit.append({'oneorzero':0,'obsday':ct},ignore_index=True)\n",
    "\n",
    "\tif (unctype == 'qt' ) : \t\n",
    "\n",
    "\t\tfor ct in range(len(sim)):\n",
    "\n",
    "\t\t\tif ( np.isnan(obs[ct]) ) : continue \n",
    "\n",
    "\t\t\tif ( (obs[ct] >= 0) and (obs[ct]-unc <= sim[ct] <= obs[ct]+unc) ) :\n",
    "\t\t\t\t fit = fit.append({'oneorzero':1,'obsday':ct},ignore_index=True)\n",
    "\t\t\t\t continue\n",
    "\n",
    "\t\t\tif ( (obs[ct] < 0) and (obs[ct]+unc >= sim[ct] >= obs[ct]-unc) ) :\n",
    "\t\t\t\t fit = fit.append({'oneorzero':1,'obsday':ct},ignore_index=True)\n",
    "\t\t\t\t continue\n",
    "\n",
    "\t\t\tfit = fit.append({'oneorzero':0,'obsday':ct},ignore_index=True)\n",
    "\n",
    "\treturn round(float(sum(fit.oneorzero))/float(len(fit)), 4)"
   ]
  },
  {
   "cell_type": "markdown",
   "metadata": {},
   "source": [
    "Create 2 arrays of example modelled and observed Net Ecosystem Exchange (NEE) data."
   ]
  },
  {
   "cell_type": "code",
   "execution_count": 2,
   "metadata": {},
   "outputs": [],
   "source": [
    "import numpy as np \n",
    "\n",
    "sim = np.array([3.20077443e+00,  3.89910202e+00,  3.89860972e+00,  3.59352206e+00,\n",
    "        3.50346302e+00,  2.85976351e+00,  2.27231692e+00,  1.87589841e+00,\n",
    "        1.47556985e+00,  1.70785929e+00,  8.45365624e-01,  9.08928307e-01,\n",
    "        2.20131278e-01,  4.71314923e-02, -6.64671327e-01, -7.67143037e-01,\n",
    "       -1.15083273e+00, -1.54285147e+00, -2.08870210e+00, -2.04016013e+00,\n",
    "       -2.14789965e+00, -2.71875385e+00, -9.00387997e-01, -3.59870503e-01,\n",
    "       -9.65612313e-01, -1.47855614e+00, -1.21594273e+00, -1.92575484e+00,\n",
    "       -1.39136095e+00, -1.41483321e+00, -1.15581224e+00, -6.62026835e-01,\n",
    "        7.08218222e-02,  4.21816310e-02, -2.24205982e-01,  4.01284725e-02,\n",
    "       -3.14518533e-02,  1.78466466e-01,  3.58637157e-03,  4.23179849e-01,\n",
    "        5.94252198e-01,  4.27781032e-01,  5.76851040e-01,  8.33181359e-01,\n",
    "        1.07823158e+00,  1.28288443e+00,  1.32597672e+00,  1.36958171e+00,\n",
    "        1.41083922e+00,  1.25352988e+00])\n",
    "\n",
    "obs = np.array([1.31088054e+00,  1.98014745e+00,  2.57458262e+00,  8.87110118e-01,\n",
    "       -5.34521438e+00, -2.83797040e+00, -5.19935729e-01,  7.09602213e-01,\n",
    "        3.06549885e-01, -8.91126422e-01, -1.88046196e+00, -1.91680980e+00,\n",
    "       -1.57424605e+00, -1.81943746e+00, -3.71028183e+00, -1.74877815e+00,\n",
    "       -6.00830765e+00, -5.53215022e+00, -6.47411172e+00, -6.23745443e+00,\n",
    "       -6.00962183e+00, -6.33951073e+00,  8.74391606e-01, -1.90858384e+00,\n",
    "       -2.82342206e+00, -3.42489523e+00, -1.51987052e+00, -4.27835205e+00,\n",
    "       -3.36605751e+00, -3.24301280e+00,  2.68654946e+00, -6.20634775e-01,\n",
    "       -2.79786651e-01, -2.85994399e-01, -8.37594278e-01, -1.26462998e+00,\n",
    "       -8.58365794e-02,  2.14254504e-01,  6.47751816e-01,  1.01457125e+00,\n",
    "        9.53587635e-01,  5.77756800e-03, -4.49344337e-01,  5.81501931e-01,\n",
    "        1.28945119e-01,  7.06964359e-01,  1.00089889e+00,  3.03851273e-01,\n",
    "        4.86533088e-01,  1.45005787e+00])"
   ]
  },
  {
   "cell_type": "markdown",
   "metadata": {},
   "source": [
    "Plot the two datasets and show a 1gCm-2 uncertainty around the observed data"
   ]
  },
  {
   "cell_type": "code",
   "execution_count": 3,
   "metadata": {},
   "outputs": [
    {
     "name": "stderr",
     "output_type": "stream",
     "text": [
      "/Users/vm/miniconda2/lib/python2.7/site-packages/pandas/plotting/_converter.py:129: FutureWarning: Using an implicitly registered datetime converter for a matplotlib plotting method. The converter was registered by pandas on import. Future versions of pandas will require you to explicitly register matplotlib converters.\n",
      "\n",
      "To register the converters:\n",
      "\t>>> from pandas.plotting import register_matplotlib_converters\n",
      "\t>>> register_matplotlib_converters()\n",
      "  warnings.warn(msg, FutureWarning)\n"
     ]
    },
    {
     "data": {
      "text/plain": [
       "<matplotlib.legend.Legend at 0x1122706d0>"
      ]
     },
     "execution_count": 3,
     "metadata": {},
     "output_type": "execute_result"
    },
    {
     "data": {
      "image/png": "[encoded data removed]",
      "text/plain": [
       "<Figure size 432x288 with 1 Axes>"
      ]
     },
     "metadata": {
      "needs_background": "light"
     },
     "output_type": "display_data"
    }
   ],
   "source": [
    "import matplotlib.pyplot as plt \n",
    "import pandas as pd \n",
    "%matplotlib inline \n",
    "\n",
    "DF = pd.DataFrame()\n",
    "DF['obs'] = obs\n",
    "DF['sim'] = sim\n",
    "DF.index = pd.date_range('2002-01-01', periods = len(DF), freq='D')\n",
    "\n",
    "plt.plot(DF.sim,c='red',label='simulated')\n",
    "plt.plot(DF.obs,c='green',label='observed',alpha=0.75)\n",
    "plt.fill_between(DF.index, DF.obs + 1 , DF.obs - 1 , \n",
    "                color='green', alpha=0.15)\n",
    "plt.ylabel('gCm$^{-2}$')\n",
    "plt.xticks(rotation=90)\n",
    "plt.legend(loc='best')\n"
   ]
  },
  {
   "cell_type": "markdown",
   "metadata": {},
   "source": [
    "You can right click on the figure above to save it."
   ]
  },
  {
   "cell_type": "markdown",
   "metadata": {},
   "source": [
    "Call the compare_daily() function specifying that the uncertainty is provided as a quantity (i.e. \"qt\") and is equal to 1 gCm-2 for all the observed data points. The value returned expresses the fraction of modelled data points that were within a +/- 1 gCm-2 range around the observed data points."
   ]
  },
  {
   "cell_type": "code",
   "execution_count": 4,
   "metadata": {},
   "outputs": [
    {
     "name": "stdout",
     "output_type": "stream",
     "text": [
      "0.36\n"
     ]
    }
   ],
   "source": [
    "print (compare_daily(sim,obs,'qt',1))"
   ]
  },
  {
   "cell_type": "markdown",
   "metadata": {},
   "source": [
    "The fraction of modelled data points that were within a +/- 1 gCm-2 range around the observed data points when considering a +/- 3 days/timesteps window can be returned by calling compare() instead of compare_daily(). The time lag window can be reduced or increased by editing lines 28-46 of the compare() and lines 65-83 of the compare_daily() functions. "
   ]
  },
  {
   "cell_type": "code",
   "execution_count": 6,
   "metadata": {},
   "outputs": [
    {
     "data": {
      "text/plain": [
       "0.5"
      ]
     },
     "execution_count": 6,
     "metadata": {},
     "output_type": "execute_result"
    }
   ],
   "source": [
    "compare(sim,obs,'qt',1)"
   ]
  },
  {
   "cell_type": "markdown",
   "metadata": {},
   "source": [
    "The lines below repeat the two function calls performed just above this time using a percentage (\"pc\") instead of a quantity (\"qt\") in order to express observational uncertainty. Both with and without time-lag consideration the observational uncertainty is set equal to 25% of the observed value (i.e. 0.25 expressed as a fraction)."
   ]
  },
  {
   "cell_type": "code",
   "execution_count": 6,
   "metadata": {
    "scrolled": true
   },
   "outputs": [
    {
     "name": "stdout",
     "output_type": "stream",
     "text": [
      "0.08\n"
     ]
    }
   ],
   "source": [
    "print (compare_daily(sim, obs, 'pc', 0.25)) # no consideration of timelag"
   ]
  },
  {
   "cell_type": "code",
   "execution_count": 7,
   "metadata": {},
   "outputs": [
    {
     "name": "stdout",
     "output_type": "stream",
     "text": [
      "0.32\n"
     ]
    }
   ],
   "source": [
    "print (compare(sim, obs, 'pc', 0.25)) # +/- 3 days timelag considered"
   ]
  },
  {
   "cell_type": "markdown",
   "metadata": {},
   "source": [
    "You can repeat all the above comparisons using your own data by saving them as a .csv using \"sim\" as a header for the simulated data and \"obs\" as a header for the measured data and then running the lines below to load the file. Make sure you change the \"/Users/vm/Desktop/laiDF.csv\" into the location of your .csv"
   ]
  },
  {
   "cell_type": "code",
   "execution_count": 8,
   "metadata": {},
   "outputs": [
    {
     "ename": "IOError",
     "evalue": "[Errno 2] File /Users/vm/Desktop/gcel tutorial/neeDF.csv does not exist: '/Users/vm/Desktop/gcel tutorial/neeDF.csv'",
     "output_type": "error",
     "traceback": [
      "\u001b[0;31m---------------------------------------------------------------------------\u001b[0m",
      "\u001b[0;31mIOError\u001b[0m                                   Traceback (most recent call last)",
      "\u001b[0;32m<ipython-input-8-fc06c9a147b5>\u001b[0m in \u001b[0;36m<module>\u001b[0;34m()\u001b[0m\n\u001b[0;32m----> 1\u001b[0;31m \u001b[0mDF\u001b[0m \u001b[0;34m=\u001b[0m \u001b[0mpd\u001b[0m\u001b[0;34m.\u001b[0m\u001b[0mread_csv\u001b[0m\u001b[0;34m(\u001b[0m\u001b[0;34m\"/Users/vm/Desktop/gcel tutorial/neeDF.csv\"\u001b[0m\u001b[0;34m)\u001b[0m \u001b[0;31m# will load your data and store them as a dataframe called DF\u001b[0m\u001b[0;34m\u001b[0m\u001b[0m\n\u001b[0m",
      "\u001b[0;32m/Users/vm/miniconda2/lib/python2.7/site-packages/pandas/io/parsers.pyc\u001b[0m in \u001b[0;36mparser_f\u001b[0;34m(filepath_or_buffer, sep, delimiter, header, names, index_col, usecols, squeeze, prefix, mangle_dupe_cols, dtype, engine, converters, true_values, false_values, skipinitialspace, skiprows, skipfooter, nrows, na_values, keep_default_na, na_filter, verbose, skip_blank_lines, parse_dates, infer_datetime_format, keep_date_col, date_parser, dayfirst, iterator, chunksize, compression, thousands, decimal, lineterminator, quotechar, quoting, doublequote, escapechar, comment, encoding, dialect, tupleize_cols, error_bad_lines, warn_bad_lines, delim_whitespace, low_memory, memory_map, float_precision)\u001b[0m\n\u001b[1;32m    700\u001b[0m                     skip_blank_lines=skip_blank_lines)\n\u001b[1;32m    701\u001b[0m \u001b[0;34m\u001b[0m\u001b[0m\n\u001b[0;32m--> 702\u001b[0;31m         \u001b[0;32mreturn\u001b[0m \u001b[0m_read\u001b[0m\u001b[0;34m(\u001b[0m\u001b[0mfilepath_or_buffer\u001b[0m\u001b[0;34m,\u001b[0m \u001b[0mkwds\u001b[0m\u001b[0;34m)\u001b[0m\u001b[0;34m\u001b[0m\u001b[0m\n\u001b[0m\u001b[1;32m    703\u001b[0m \u001b[0;34m\u001b[0m\u001b[0m\n\u001b[1;32m    704\u001b[0m     \u001b[0mparser_f\u001b[0m\u001b[0;34m.\u001b[0m\u001b[0m__name__\u001b[0m \u001b[0;34m=\u001b[0m \u001b[0mname\u001b[0m\u001b[0;34m\u001b[0m\u001b[0m\n",
      "\u001b[0;32m/Users/vm/miniconda2/lib/python2.7/site-packages/pandas/io/parsers.pyc\u001b[0m in \u001b[0;36m_read\u001b[0;34m(filepath_or_buffer, kwds)\u001b[0m\n\u001b[1;32m    427\u001b[0m \u001b[0;34m\u001b[0m\u001b[0m\n\u001b[1;32m    428\u001b[0m     \u001b[0;31m# Create the parser.\u001b[0m\u001b[0;34m\u001b[0m\u001b[0;34m\u001b[0m\u001b[0m\n\u001b[0;32m--> 429\u001b[0;31m     \u001b[0mparser\u001b[0m \u001b[0;34m=\u001b[0m \u001b[0mTextFileReader\u001b[0m\u001b[0;34m(\u001b[0m\u001b[0mfilepath_or_buffer\u001b[0m\u001b[0;34m,\u001b[0m \u001b[0;34m**\u001b[0m\u001b[0mkwds\u001b[0m\u001b[0;34m)\u001b[0m\u001b[0;34m\u001b[0m\u001b[0m\n\u001b[0m\u001b[1;32m    430\u001b[0m \u001b[0;34m\u001b[0m\u001b[0m\n\u001b[1;32m    431\u001b[0m     \u001b[0;32mif\u001b[0m \u001b[0mchunksize\u001b[0m \u001b[0;32mor\u001b[0m \u001b[0miterator\u001b[0m\u001b[0;34m:\u001b[0m\u001b[0;34m\u001b[0m\u001b[0m\n",
      "\u001b[0;32m/Users/vm/miniconda2/lib/python2.7/site-packages/pandas/io/parsers.pyc\u001b[0m in \u001b[0;36m__init__\u001b[0;34m(self, f, engine, **kwds)\u001b[0m\n\u001b[1;32m    893\u001b[0m             \u001b[0mself\u001b[0m\u001b[0;34m.\u001b[0m\u001b[0moptions\u001b[0m\u001b[0;34m[\u001b[0m\u001b[0;34m'has_index_names'\u001b[0m\u001b[0;34m]\u001b[0m \u001b[0;34m=\u001b[0m \u001b[0mkwds\u001b[0m\u001b[0;34m[\u001b[0m\u001b[0;34m'has_index_names'\u001b[0m\u001b[0;34m]\u001b[0m\u001b[0;34m\u001b[0m\u001b[0m\n\u001b[1;32m    894\u001b[0m \u001b[0;34m\u001b[0m\u001b[0m\n\u001b[0;32m--> 895\u001b[0;31m         \u001b[0mself\u001b[0m\u001b[0;34m.\u001b[0m\u001b[0m_make_engine\u001b[0m\u001b[0;34m(\u001b[0m\u001b[0mself\u001b[0m\u001b[0;34m.\u001b[0m\u001b[0mengine\u001b[0m\u001b[0;34m)\u001b[0m\u001b[0;34m\u001b[0m\u001b[0m\n\u001b[0m\u001b[1;32m    896\u001b[0m \u001b[0;34m\u001b[0m\u001b[0m\n\u001b[1;32m    897\u001b[0m     \u001b[0;32mdef\u001b[0m \u001b[0mclose\u001b[0m\u001b[0;34m(\u001b[0m\u001b[0mself\u001b[0m\u001b[0;34m)\u001b[0m\u001b[0;34m:\u001b[0m\u001b[0;34m\u001b[0m\u001b[0m\n",
      "\u001b[0;32m/Users/vm/miniconda2/lib/python2.7/site-packages/pandas/io/parsers.pyc\u001b[0m in \u001b[0;36m_make_engine\u001b[0;34m(self, engine)\u001b[0m\n\u001b[1;32m   1120\u001b[0m     \u001b[0;32mdef\u001b[0m \u001b[0m_make_engine\u001b[0m\u001b[0;34m(\u001b[0m\u001b[0mself\u001b[0m\u001b[0;34m,\u001b[0m \u001b[0mengine\u001b[0m\u001b[0;34m=\u001b[0m\u001b[0;34m'c'\u001b[0m\u001b[0;34m)\u001b[0m\u001b[0;34m:\u001b[0m\u001b[0;34m\u001b[0m\u001b[0m\n\u001b[1;32m   1121\u001b[0m         \u001b[0;32mif\u001b[0m \u001b[0mengine\u001b[0m \u001b[0;34m==\u001b[0m \u001b[0;34m'c'\u001b[0m\u001b[0;34m:\u001b[0m\u001b[0;34m\u001b[0m\u001b[0m\n\u001b[0;32m-> 1122\u001b[0;31m             \u001b[0mself\u001b[0m\u001b[0;34m.\u001b[0m\u001b[0m_engine\u001b[0m \u001b[0;34m=\u001b[0m \u001b[0mCParserWrapper\u001b[0m\u001b[0;34m(\u001b[0m\u001b[0mself\u001b[0m\u001b[0;34m.\u001b[0m\u001b[0mf\u001b[0m\u001b[0;34m,\u001b[0m \u001b[0;34m**\u001b[0m\u001b[0mself\u001b[0m\u001b[0;34m.\u001b[0m\u001b[0moptions\u001b[0m\u001b[0;34m)\u001b[0m\u001b[0;34m\u001b[0m\u001b[0m\n\u001b[0m\u001b[1;32m   1123\u001b[0m         \u001b[0;32melse\u001b[0m\u001b[0;34m:\u001b[0m\u001b[0;34m\u001b[0m\u001b[0m\n\u001b[1;32m   1124\u001b[0m             \u001b[0;32mif\u001b[0m \u001b[0mengine\u001b[0m \u001b[0;34m==\u001b[0m \u001b[0;34m'python'\u001b[0m\u001b[0;34m:\u001b[0m\u001b[0;34m\u001b[0m\u001b[0m\n",
      "\u001b[0;32m/Users/vm/miniconda2/lib/python2.7/site-packages/pandas/io/parsers.pyc\u001b[0m in \u001b[0;36m__init__\u001b[0;34m(self, src, **kwds)\u001b[0m\n\u001b[1;32m   1851\u001b[0m         \u001b[0mkwds\u001b[0m\u001b[0;34m[\u001b[0m\u001b[0;34m'usecols'\u001b[0m\u001b[0;34m]\u001b[0m \u001b[0;34m=\u001b[0m \u001b[0mself\u001b[0m\u001b[0;34m.\u001b[0m\u001b[0musecols\u001b[0m\u001b[0;34m\u001b[0m\u001b[0m\n\u001b[1;32m   1852\u001b[0m \u001b[0;34m\u001b[0m\u001b[0m\n\u001b[0;32m-> 1853\u001b[0;31m         \u001b[0mself\u001b[0m\u001b[0;34m.\u001b[0m\u001b[0m_reader\u001b[0m \u001b[0;34m=\u001b[0m \u001b[0mparsers\u001b[0m\u001b[0;34m.\u001b[0m\u001b[0mTextReader\u001b[0m\u001b[0;34m(\u001b[0m\u001b[0msrc\u001b[0m\u001b[0;34m,\u001b[0m \u001b[0;34m**\u001b[0m\u001b[0mkwds\u001b[0m\u001b[0;34m)\u001b[0m\u001b[0;34m\u001b[0m\u001b[0m\n\u001b[0m\u001b[1;32m   1854\u001b[0m         \u001b[0mself\u001b[0m\u001b[0;34m.\u001b[0m\u001b[0munnamed_cols\u001b[0m \u001b[0;34m=\u001b[0m \u001b[0mself\u001b[0m\u001b[0;34m.\u001b[0m\u001b[0m_reader\u001b[0m\u001b[0;34m.\u001b[0m\u001b[0munnamed_cols\u001b[0m\u001b[0;34m\u001b[0m\u001b[0m\n\u001b[1;32m   1855\u001b[0m \u001b[0;34m\u001b[0m\u001b[0m\n",
      "\u001b[0;32mpandas/_libs/parsers.pyx\u001b[0m in \u001b[0;36mpandas._libs.parsers.TextReader.__cinit__\u001b[0;34m()\u001b[0m\n",
      "\u001b[0;32mpandas/_libs/parsers.pyx\u001b[0m in \u001b[0;36mpandas._libs.parsers.TextReader._setup_parser_source\u001b[0;34m()\u001b[0m\n",
      "\u001b[0;31mIOError\u001b[0m: [Errno 2] File /Users/vm/Desktop/gcel tutorial/neeDF.csv does not exist: '/Users/vm/Desktop/gcel tutorial/neeDF.csv'"
     ]
    }
   ],
   "source": [
    "DF = pd.read_csv(\"/Users/vm/Desktop/gcel tutorial/neeDF.csv\") # will load your data and store them as a dataframe called DF"
   ]
  },
  {
   "cell_type": "code",
   "execution_count": null,
   "metadata": {},
   "outputs": [],
   "source": [
    "DF.sim # will print your modelled data"
   ]
  },
  {
   "cell_type": "code",
   "execution_count": null,
   "metadata": {},
   "outputs": [],
   "source": [
    "DF.obs # will print your observed data "
   ]
  },
  {
   "cell_type": "markdown",
   "metadata": {},
   "source": [
    "You can add a date index to your dataframe (i.e. DF) so that you have temporal information related to your data points. In the lines below a daily date index, with starting date being 2002-01-01, is added. The obs and sim data are then ploted."
   ]
  },
  {
   "cell_type": "code",
   "execution_count": null,
   "metadata": {
    "scrolled": true
   },
   "outputs": [],
   "source": [
    "DF.index = pd.date_range('2002-01-01', periods = len(DF), freq='D')\n",
    "\n",
    "# plot sim and obs data\n",
    "plt.plot(DF.sim,c='red',label='simulated')\n",
    "plt.plot(DF.obs,c='green',label='observed',alpha=0.5)\n",
    "plt.ylabel('gCm$^{-2}$')\n",
    "plt.title('NEE')\n",
    "plt.xticks(rotation=90)\n",
    "plt.legend()\n"
   ]
  },
  {
   "cell_type": "code",
   "execution_count": null,
   "metadata": {},
   "outputs": [],
   "source": [
    "print(compare_daily(DF.sim, DF.obs, 'pc', 0.25)) # compare obs and sim without considering +/- 3 days timelag"
   ]
  },
  {
   "cell_type": "code",
   "execution_count": null,
   "metadata": {},
   "outputs": [],
   "source": [
    "print(compare(DF.sim, DF.obs, 'pc', 0.25)) # compare obs and sim while considering +/- 3 days timelag"
   ]
  },
  {
   "cell_type": "code",
   "execution_count": null,
   "metadata": {},
   "outputs": [],
   "source": [
    "print (\"2002 : \" + str(compare(DF.sim['2002'], DF.obs['2002'], 'pc', 0.25)))\n",
    "print (\"2003 : \" + str(compare(DF.sim['2003'], DF.obs['2003'], 'pc', 0.25)))\n",
    "print (\"2004 : \" + str(compare(DF.sim['2004'], DF.obs['2004'], 'pc', 0.25)))\n",
    "print (\"2005 : \" + str(compare(DF.sim['2005'], DF.obs['2005'], 'pc', 0.25)))\n",
    "print (\"2006 : \" + str(compare(DF.sim['2006'], DF.obs['2006'], 'pc', 0.25)))\n",
    "print (\"2007 : \" + str(compare(DF.sim['2007'], DF.obs['2007'], 'pc', 0.25)))\n",
    "print (\"2008 : \" + str(compare(DF.sim['2008'], DF.obs['2008'], 'pc', 0.25)))\n",
    "print (\"2009 : \" + str(compare(DF.sim['2009'], DF.obs['2009'], 'pc', 0.25)))"
   ]
  },
  {
   "cell_type": "code",
   "execution_count": null,
   "metadata": {},
   "outputs": [],
   "source": [
    "DF = DF.resample('W').mean()\n",
    "print (\"2002 : \" + str(compare(DF.sim['2002'], DF.obs['2002'], 'pc', 0.25)))\n",
    "print (\"2003 : \" + str(compare(DF.sim['2003'], DF.obs['2003'], 'pc', 0.25)))\n",
    "print (\"2004 : \" + str(compare(DF.sim['2004'], DF.obs['2004'], 'pc', 0.25)))\n",
    "print (\"2005 : \" + str(compare(DF.sim['2005'], DF.obs['2005'], 'pc', 0.25)))\n",
    "print (\"2006 : \" + str(compare(DF.sim['2006'], DF.obs['2006'], 'pc', 0.25)))\n",
    "print (\"2007 : \" + str(compare(DF.sim['2007'], DF.obs['2007'], 'pc', 0.25)))\n",
    "print (\"2008 : \" + str(compare(DF.sim['2008'], DF.obs['2008'], 'pc', 0.25)))\n",
    "print (\"2009 : \" + str(compare(DF.sim['2009'], DF.obs['2009'], 'pc', 0.25)))"
   ]
  },
  {
   "cell_type": "code",
   "execution_count": null,
   "metadata": {},
   "outputs": [],
   "source": [
    "DF = DF.resample('W').mean()\n",
    "print (\"2002 : \" + str(compare(DF.sim['2002'], DF.obs['2002'], 'qt', 1)))\n",
    "print (\"2003 : \" + str(compare(DF.sim['2003'], DF.obs['2003'], 'qt', 1)))\n",
    "print (\"2004 : \" + str(compare(DF.sim['2004'], DF.obs['2004'], 'qt', 1)))\n",
    "print (\"2005 : \" + str(compare(DF.sim['2005'], DF.obs['2005'], 'qt', 1)))\n",
    "print (\"2006 : \" + str(compare(DF.sim['2006'], DF.obs['2006'], 'qt', 1)))\n",
    "print (\"2007 : \" + str(compare(DF.sim['2007'], DF.obs['2007'], 'qt', 1)))\n",
    "print (\"2008 : \" + str(compare(DF.sim['2008'], DF.obs['2008'], 'qt', 1)))\n",
    "print (\"2009 : \" + str(compare(DF.sim['2009'], DF.obs['2009'], 'qt', 1)))"
   ]
  },
  {
   "cell_type": "code",
   "execution_count": null,
   "metadata": {},
   "outputs": [],
   "source": []
  }
 ],
 "metadata": {
  "kernelspec": {
   "display_name": "Python 2",
   "language": "python",
   "name": "python2"
  },
  "language_info": {
   "codemirror_mode": {
    "name": "ipython",
    "version": 2
   },
   "file_extension": ".py",
   "mimetype": "text/x-python",
   "name": "python",
   "nbconvert_exporter": "python",
   "pygments_lexer": "ipython2",
   "version": "2.7.15"
  }
 },
 "nbformat": 4,
 "nbformat_minor": 2
}
